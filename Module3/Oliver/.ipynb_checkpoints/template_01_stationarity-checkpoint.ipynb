{
 "cells": [
  {
   "cell_type": "markdown",
   "id": "4d6783b8",
   "metadata": {
    "tags": []
   },
   "source": [
    "# Experimentation 1: Basic Properties of Time Series -- Stationarity\n",
    "We will investigate basic statistical properties of time series together with the concept of stationarity.\n",
    "\n",
    "The idea is to implement time series from random numbers, drawn in Python, and then investigate the statistical properties.\n",
    "The introduction will provide you with additional information on helpful Python functionality.\n",
    "\n",
    "These experiments will partially give us obvious results, as we know the statistics of the random numbers used,\n",
    "but will very likely also give us an insight into where the difference between *the average value of one random time series* and *the average of an ensemble of time series* lies.\n",
    "Hopefully providing a better understanding of how statistical properties can be used to describe an individual implementation of a time series as well as a general description of all possible time series which might be realised by a speific process.\n",
    "\n",
    "Please also look into the accompanying notes to get a better understanding of the concepts and functions used in this notebook.\n",
    "(Please allow the accompanying notes to show up with a delay…)\n",
    "\n",
    "And please use the forum on itslearning to discuss results, questions or what is unclear to you.\n",
    "\n",
    "## What to do\n",
    "For\n",
    "- white noise and\n",
    "- a random walk\n",
    "\n",
    "please determine for one realisation of white noise and a random walk each\n",
    "- mean & variance\n",
    "- the autocorrelation\n",
    "- and test stationarity with the Augmented Dickey-Fuller test\n",
    "\n",
    "and for an ensemble of realisations (try 1000)\n",
    "- the mean\n",
    "- and the variance\n",
    "\n",
    "over these different realisations (for each time point), i.e., creating the average time series.\n",
    "\n",
    "## Discussion\n",
    "Prepare for discussion in class, which will take place either in groups or with your neighbours\n",
    "- How do mean & variance behave for white noise and a random walk? Where is the difference?\n",
    "- Describe the autocorrelation function. What does the autocorrelation tell us about the signal?\n",
    "- How do the statistics for the individual and the ensemble of realisations for white noise and random walks differ? What is noteworthy in your opinion? Did you expect this behaviour?\n",
    "- How do the statistics of slices of the time series compare to the ensemble behaviours?\n",
    "- Discuss the relation of the statistical measures in the different perspectives to the concept of stationarity. What does stationarity tell you about a time series?\n",
    "  And how does the stationarity relate to the statistical observations collected above?\n",
    "\n",
    "Feel free to use the forum on itslearning.\n",
    "\n",
    "## Good to Know\n",
    "- Numpy provides the mean & var functions, either directly in functional style (np.mean()) or object oriented as member functions of its array class (x.mean()). Use the method which seems more descriptive to you.\n",
    "- Statsmodels provides the function [adfuller](https://www.statsmodels.org/dev/generated/statsmodels.tsa.stattools.adfuller.html) for testing the stationarity with the [Augmented Dickey-Fuller test](https://en.wikipedia.org/wiki/Augmented_Dickey%E2%80%93Fuller_test). The second entry in the result contains the p-value, i.e., use this value to determine if the time series can be assumed as stationary. If the p-value is below a threshold, we assume the time series to be stationary.\n",
    "- Pandas provides ```pandas.plotting.autocorrelation_plot``` to directly plot the autocorrelation function.\n",
    "An alternative is ```statsmodels.graphics.tsaplots.plot_acf```.\n",
    "Please try both and find out which resulting graph you personally prefer, i.e., which can you read better.\n",
    "But be warned that not every laptop will be able to complete both functions on the given data.\n",
    "One is fast and the other isn't.\n",
    "- To create a [random number generator with numpy](https://numpy.org/doc/stable/reference/random/index.html#random-quick-start), use the ```default_rng``` import. Use the normal(…) member function to draw a series of random values.\n",
    "- To prevent multiple plots from ending up in the same figure, you can issue a ```plt.figure()``` before plotting, to make sure a new figure is created.\n",
    "- Slicing is the python feature used to access a part of an array. Try the following slicing example if you are not familiar with this feature.\n",
    "```\n",
    "d = np.linspace(1, 15, 15)\n",
    "print('Length of time series in samples:', len(d))\n",
    "print('First 5 samples:', d[:5])\n",
    "print('Some 5 samples:', d[4:9])\n",
    "print('Last 5 samples: ', d[-5:])\n",
    "```\n",
    "- Normally, the last command's return value will be printed in a cell's output. If you want to supress that output, close the last line with a semicolon;"
   ]
  },
  {
   "cell_type": "code",
   "execution_count": null,
   "id": "b1c85e71",
   "metadata": {},
   "outputs": [],
   "source": [
    "import numpy as np                            # Array library\n",
    "import pandas as pd                           # Advanced data frames & csv reading\n",
    "\n",
    "\n",
    "# Jupyter lab supports interactive plots      # Matplotlib for plotting\n",
    "# using \"widget\"\n",
    "%matplotlib widget\n",
    "\n",
    "# Jupyter lab doesn't support notebook,\n",
    "# which was the preferred method for jupyter notebooks.\n",
    "#%matplotlib notebook\n",
    "#%matplotlib inline\n",
    "\n",
    "\n",
    "from matplotlib import pyplot as plt\n",
    "\n",
    "import seaborn as sns                         # Advanced plotting, support for data frames\n",
    "\n",
    "# Adjust plot size & resolution for inline display.\n",
    "# Tune to your needs.\n",
    "plt.rcParams['figure.figsize'] = [9, 5.56]\n",
    "plt.rcParams['figure.dpi'] = 100\n",
    "\n",
    "# Augmented Dickey-Fuller test\n",
    "from statsmodels.tsa.stattools import adfuller, pacf, acf\n",
    "\n",
    "from pandas.plotting import autocorrelation_plot\n",
    "\n",
    "from numpy.random import default_rng"
   ]
  },
  {
   "cell_type": "markdown",
   "id": "9fd56e68",
   "metadata": {
    "tags": []
   },
   "source": [
    "# White Noise\n",
    "To generate Gaussian noise (a special realisation of White Noise), use numpy.random.default_rng to create a generator from which you can draw a time series of length 5000 with mean 0 and variance 1.\n",
    "\n",
    "Plot the resulting time series with matplotlib, e.g.,\n",
    "```\n",
    "plt.figure()\n",
    "plt.plot(white_noise)\n",
    "plt.title('White Noise')\n",
    "```\n",
    "\n",
    "Determine the mean & variance before you perform the Augmented Dickey-Fuller test.\n",
    "\n",
    "Use pandas.plotting.autocorrelation_plot to get the autocorrelation function."
   ]
  },
  {
   "cell_type": "code",
   "execution_count": null,
   "id": "57573436",
   "metadata": {},
   "outputs": [],
   "source": []
  },
  {
   "cell_type": "markdown",
   "id": "af681a4e",
   "metadata": {},
   "source": [
    "# Random Walk\n",
    "Realise a Random Walk by summing up Gaussian Noise. Then plot the resulting time series.\n",
    "\n",
    "Determine the mean & variance before you perform the Augmented Dickey-Fuller test.\n",
    "\n",
    "Use pandas.plotting.autocorrelation_plot to get the autocorrelation function."
   ]
  },
  {
   "cell_type": "code",
   "execution_count": null,
   "id": "63a35de0",
   "metadata": {},
   "outputs": [],
   "source": []
  },
  {
   "cell_type": "markdown",
   "id": "d6caf85a",
   "metadata": {},
   "source": [
    "# Investigating an Ensemble of Realisations\n",
    "Create 1000 realisations of white noise and random walks each. Investigate the mean and the variance over these realisations, i.e., per time step, by plotting them. Use 5000 time steps again.\n",
    "\n",
    "Also, plot 100 time steps of 30 individual random walks.\n",
    "\n",
    "**Notes**\n",
    "- When having a number of realisations, use 2D-arrays. Matplotlib can plot a 2D-array as a set of plots. Please note, that the individual realisations would be expected in the columns of the array in this case!\n",
    "- Create an empty array of length N using numpy.zeros, i.e., ```np.zeros((N))```.\n",
    "- Create an empty 2D-array with r rows and c columns, use ```np.zeros((r, c))```."
   ]
  },
  {
   "cell_type": "code",
   "execution_count": null,
   "id": "00de1b5a",
   "metadata": {},
   "outputs": [],
   "source": []
  },
  {
   "cell_type": "markdown",
   "id": "42daa59f",
   "metadata": {},
   "source": [
    "# How do Mean and Variance Vary with Time in a Time Series?\n",
    "Investigate the local mean and variance of one time series.\n",
    "\n",
    "To do this, use slicing to access parts of the array which contains the time series.\n",
    "These slices behave just like arrays.\n",
    "\n",
    "Create a new time series by looking at equally sized chunks of the original time series and determining the mean / variance for each of these. As a result, you will get a time series of the local mean / variance of the original time series.\n",
    "\n",
    "Compare to the ensemble results."
   ]
  },
  {
   "cell_type": "code",
   "execution_count": null,
   "id": "c6cc86ef",
   "metadata": {},
   "outputs": [],
   "source": []
  }
 ],
 "metadata": {
  "kernelspec": {
   "display_name": "Python 3 (ipykernel)",
   "language": "python",
   "name": "python3"
  },
  "language_info": {
   "codemirror_mode": {
    "name": "ipython",
    "version": 3
   },
   "file_extension": ".py",
   "mimetype": "text/x-python",
   "name": "python",
   "nbconvert_exporter": "python",
   "pygments_lexer": "ipython3",
   "version": "3.12.11"
  }
 },
 "nbformat": 4,
 "nbformat_minor": 5
}
