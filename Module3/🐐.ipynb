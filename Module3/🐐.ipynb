{
 "cells": [
  {
   "cell_type": "markdown",
   "id": "9d36d77b",
   "metadata": {},
   "source": [
    "# Experimentation 3: Seizure Detection\n",
    "\n",
    "## Structure\n",
    "1. Data preparation (pre-processing)<br/>\n",
    "   Note: ideally you store the pre-processed data in template 02 and load it here again, instead of duplicating the code …\n",
    "2. Windowing\n",
    "3. Feature & label extraction\n",
    "4. Data split\n",
    "5. FV-pre-processing\n",
    "6. Classifier creation\n",
    "7. Evaluation\n",
    "\n",
    "\n",
    "## Reporting\n",
    "Not every plot or number generated in this template comes into the report.\n",
    "Nonetheless, some intermediary steps are required to achieve the relevant results.\n",
    "Cells, which have a *direct* relation to a part of the report, \n",
    "are marked with **Report:**.\n",
    "Be sure to not jump over relevant precursor steps.\n",
    "But when having little time, think about your priorities, and try to avoid spending time on decorative steps or cells which are not needed for the report.\n",
    "\n",
    "The relevant information about what to include in the report is the corresponding pdf document on itslearning.\n",
    "Annotations in this file are just for orientation and might not be complete.\n",
    "\n",
    "\n",
    "\n",
    "## What to do\n",
    "  - Build it up step by step, i.e\n",
    "      * First take a short look at how the pipeline looks like\n",
    "      * Initially, use the raw window as feature vector for starters to get everything going\n",
    "      * Implement the overlap of the window with the seizure,\n",
    "        so that you have a label\n",
    "      * Only then start implementing features\n",
    "      * Then, you can go on\n",
    "  - There are many parameters which influence the outcome\n",
    "      * Which influence does balancing have?\n",
    "      * How about scaling?\n",
    "      * And PCA with / without whitening?\n",
    "      * Try to get a feeling for how the PCA changes the channels, \n",
    "        i.e., plot consecutive channels on x/y axis.\n",
    "        Colour the dots according to their labels.\n",
    "      * How do your observations relate to your expectations?\n",
    "  - Investigate the relevance of features\n",
    "  - Without doing a proper evaluation, do you think that the relevance of the features correlates with the computaton time going into deriving them?\n",
    "  \n",
    "## Discussion\n",
    "In your group or with your neighbours\n",
    "- Which influence does the data preparation have? I.e., normalisation, PCA, whitening?\n",
    "- When comparing the use of PCA here to Module 2, how would you describe the interpretability of the dimensions?\n",
    "- Which performance do you achieve? Is the detector usable?\n",
    "- Reflecting on the performance of the detector, for which tasks would you trust this model? How would you like to change the performance for possible use cases?\n",
    "\n",
    "## When you are done with all other tasks…\n",
    "You can check template 3a for optional tasks to dig deeper."
   ]
  },
  {
   "cell_type": "code",
   "execution_count": 1,
   "id": "e0e248d2-14a9-41e4-84ec-a3dfc1cf9fbc",
   "metadata": {},
   "outputs": [
    {
     "name": "stdout",
     "output_type": "stream",
     "text": [
      "Requirement already satisfied: pyedflib in /opt/conda/lib/python3.12/site-packages (0.1.42)\n",
      "Requirement already satisfied: pathlib in /opt/conda/lib/python3.12/site-packages (1.0.1)\n",
      "Requirement already satisfied: numpy in /opt/conda/lib/python3.12/site-packages (2.2.6)\n"
     ]
    }
   ],
   "source": [
    "!pip install pyedflib pathlib numpy"
   ]
  },
  {
   "cell_type": "code",
   "execution_count": 18,
   "id": "b9f26b06",
   "metadata": {},
   "outputs": [],
   "source": [
    "from pyedflib import highlevel\n",
    "from pathlib import Path\n",
    "import numpy as np\n",
    "from matplotlib import pyplot as plt\n",
    "from matplotlib import patches\n",
    "from scipy.signal import windows\n",
    "from scipy import fft\n",
    "from sklearn import preprocessing, svm\n",
    "from sklearn.decomposition import PCA\n",
    "from sklearn.ensemble import RandomForestClassifier\n",
    "from sklearn.metrics import classification_report, confusion_matrix, ConfusionMatrixDisplay\n",
    "from numpy.random import default_rng\n",
    "\n",
    "\n",
    "\n",
    "# Jupyter lab supports interactive plots      # Matplotlib for plotting\n",
    "# using \"widget\"\n",
    "%matplotlib widget\n",
    "\n",
    "# Jupyter lab doesn't support notebook,\n",
    "# which was the preferred method for jupyter notebooks.\n",
    "#%matplotlib notebook\n",
    "#%matplotlib inline\n",
    "\n",
    "\n",
    "from matplotlib import pyplot as plt\n",
    "from matplotlib import patches\n",
    "\n",
    "# Adjust plot size & resolution for inline display.\n",
    "# Tune to your needs.\n",
    "plt.rcParams['figure.figsize'] = [9, 5.56]\n",
    "plt.rcParams['figure.dpi'] = 100"
   ]
  },
  {
   "cell_type": "code",
   "execution_count": 50,
   "id": "c3f835c3",
   "metadata": {},
   "outputs": [],
   "source": [
    "# Defining base paths for read-only and read-write data\n",
    "# will make it easy for us to switch between cloud\n",
    "# and local environments by just adjusting the paths.\n",
    "#\n",
    "# Also, it will prevent accidental overwriting of read-only data.\n",
    "#\n",
    "# The example codes starting with '/work' relate to UCloud.\n",
    "# Note that jupyterlab in ucloud will not show you the /work folder.\n",
    "# What jupyterlab shows as origin */* of the filesystem\n",
    "# is in reality the */work* folder.\n",
    "\n",
    "from pathlib import Path         # OS agnostic path handling (/ vs \\)\n",
    "\n",
    "user = 'jb'                      # Per-user output directories\n",
    "\n",
    "# Base directories\n",
    "# DATA_DIR -- where the read-only sources are\n",
    "DATA_DIR = Path('./data')\n",
    "\n",
    "# OUTPUT_DIR -- where we will keep our data (read/write)\n",
    "# We will make sure it exists!\n",
    "OUTPUT_DIR = Path('./output')\n",
    "\n",
    "# Now create our own output directory and change to it\n",
    "OUTPUT_DIR /= user\n",
    "OUTPUT_DIR.mkdir(parents=True, exist_ok=True)\n",
    "\n",
    "# Hyper parameters for the data analysis\n",
    "USE_RAW_WINDOW_AS_FEATURE = False\n",
    "DO_BALANCING = False\n",
    "NON_SEIZURE_OVERHEAD = 1.1\n",
    "SCALING_METHOD = 'robust'\n",
    "DO_PCA = True\n",
    "PCA_WHITEN = False\n",
    "PCA_N_COMP = 'mle'\n",
    "\n",
    "\n",
    "import os\n",
    "#os.chdir(OUTPUT_DIR)             # Change working directory"
   ]
  },
  {
   "cell_type": "markdown",
   "id": "d85a903a",
   "metadata": {},
   "source": [
    "# Loading the Data\n",
    "While this template replicates the boxes from template 02, it is advised to store the pre-processed data in template 02 and then load it again here, preventing you from duplicating all the code."
   ]
  },
  {
   "cell_type": "code",
   "execution_count": 51,
   "id": "7eda4335",
   "metadata": {},
   "outputs": [
    {
     "name": "stdout",
     "output_type": "stream",
     "text": [
      "['.ipynb_checkpoints', 'precision_recall_hyperparameter_comparison.png', '.ucviz-data', 'model.pth', 'job-0.sh', 'combined_metrics_vs_gamma.png', 'f1_jaccard_vs_gamma.png', 'segmentation_unet_membrane.ipynb', 'data', 'module_3', 'JobParameters.json', 'output', 'stdout-0.log', 'module_2_-_image_processing', 'precision_recall_vs_gamma.png', '.ucviz-ui']\n",
      "/work\n",
      "Reading EEG from: ./module_3/data/seizure_eeg_data/01.edf\n"
     ]
    }
   ],
   "source": [
    "# Loading file:\n",
    "fn = './module_3/data/seizure_eeg_data/' \\\n",
    "     '01.edf'\n",
    "import os\n",
    "print(os.listdir(\".\"))\n",
    "print(os.getcwd())\n",
    "print('Reading EEG from: {}'.format(fn))\n",
    "\n",
    "raw_signals, signal_headers, header = \\\n",
    "    highlevel.read_edf(str(fn))"
   ]
  },
  {
   "cell_type": "code",
   "execution_count": 52,
   "id": "4ea2f6a3",
   "metadata": {},
   "outputs": [
    {
     "name": "stdout",
     "output_type": "stream",
     "text": [
      "Found 80 seizure annotations.\n"
     ]
    }
   ],
   "source": [
    "# Annotations:\n",
    "# In seconds since start of recording,\n",
    "# use singal_headers.sample_frequency to map to sample numbers\n",
    "seizures = list()\n",
    "for start, duration, kind in header['annotations']:\n",
    "    if kind == 'Seizure':\n",
    "        seizures.append((start, float(duration)))\n",
    "print(f\"Found {len(seizures)} seizure annotations.\")\n"
   ]
  },
  {
   "cell_type": "code",
   "execution_count": 53,
   "id": "b6f287c9",
   "metadata": {},
   "outputs": [
    {
     "name": "stdout",
     "output_type": "stream",
     "text": [
      "Channel  0: EEG Fp1-REF\n",
      "Channel  1: EEG Fp2-REF\n",
      "Channel  2: EEG F3-REF\n",
      "Channel  3: EEG F4-REF\n",
      "Channel  4: EEG C3-REF\n",
      "Channel  5: EEG C4-REF\n",
      "Channel  6: EEG P3-REF\n",
      "Channel  7: EEG P4-REF\n",
      "Channel  8: EEG O1-REF\n",
      "Channel  9: EEG O2-REF\n",
      "Channel 10: EEG F7-REF\n",
      "Channel 11: EEG F8-REF\n",
      "Channel 12: EEG T3-REF\n",
      "Channel 13: EEG T4-REF\n",
      "Channel 14: EEG T5-REF\n",
      "Channel 15: EEG T6-REF\n",
      "Channel 16: EEG Zyg_1-REF\n",
      "Channel 17: EEG Zyg_2-REF\n",
      "Channel 18: EEG Fz-REF\n",
      "Channel 19: EEG Cz-REF\n",
      "Channel 20: EEG Pz-REF\n",
      "Channel 21: EEG F10-REF\n",
      "Channel 22: EEG F9-REF\n",
      "Channel 23: EEG P9-REF\n",
      "Channel 24: ECG EKG1-REF\n",
      "Channel 25: EEG P10-REF\n",
      "Channel 26: EMG_4-REF\n",
      "Channel 27: Photic-REF\n"
     ]
    }
   ],
   "source": [
    "# For easier referencing of a specific channel:\n",
    "# A lookup table with the labels of all channels in the edf\n",
    "channel_labels = {sh['label']: i for i, sh in enumerate(signal_headers)}\n",
    "\n",
    "for i, sh in enumerate(signal_headers):\n",
    "    print('Channel {:2d}: {}'.format(i, sh['label']))"
   ]
  },
  {
   "cell_type": "markdown",
   "id": "35172d38",
   "metadata": {},
   "source": [
    "# Pre-Processing & Preparation"
   ]
  },
  {
   "cell_type": "markdown",
   "id": "9727e4ea",
   "metadata": {},
   "source": [
    "## Filtering\n",
    "Take from Task 2, or load pre-processed data from file.\n",
    "Note that you need to filter all channels."
   ]
  },
  {
   "cell_type": "code",
   "execution_count": 54,
   "id": "5604fcab",
   "metadata": {},
   "outputs": [],
   "source": [
    "# TODO: REPLACE the following line of code!\n",
    "#       There is no need to keep it.\n",
    "# Nah, this is a perfect solution for now :)\n",
    "signals = raw_signals.copy()"
   ]
  },
  {
   "cell_type": "markdown",
   "id": "88e3567f",
   "metadata": {},
   "source": [
    "## Per-channel normalisation\n",
    "The signals have per definition a zero line.\n",
    "The easiest way to go on is therefore to scale symmetrically.\n",
    "Note though that this is a plump assumption and should be replaced by\n",
    "transforming to physical units first.\n",
    "\n",
    "Why do we normalise here?\n",
    "Well, we don't have to, but it is especially helpful for methods includig probability density function (pdf) estimation (Optional Tasks 3a)."
   ]
  },
  {
   "cell_type": "code",
   "execution_count": 55,
   "id": "4ea52382",
   "metadata": {},
   "outputs": [],
   "source": [
    "# We need to pass the values on to a new variable,\n",
    "# even if we by default do not filter the normalise\n",
    "# the signal here.\n",
    "norm_signals = None\n",
    "\n",
    "# Change to True to perform normalisation here.\n",
    "if False:\n",
    "    norm_signals = np.zeros((signals.shape[0] - 1, signals.shape[1]))\n",
    "    for i in range(signals.shape[0] - 1):\n",
    "        # Using variance should not be that sensitive to outliers as the maximum.\n",
    "        # But both perform good. For pdf estimation use max of absolute value.\n",
    "        #scaling_factor = 2 * np.sqrt(np.var(signals[i,:]))\n",
    "        scaling_factor = np.max(np.abs(signals[i,:]))\n",
    "        if scaling_factor == 0:\n",
    "            print('Channel #{} has no content!'.format(i))\n",
    "        norm_signals[i,:] = signals[i,:] / scaling_factor\n",
    "else:\n",
    "    norm_signals = signals.copy()"
   ]
  },
  {
   "cell_type": "markdown",
   "id": "28904bd1",
   "metadata": {},
   "source": [
    "## Windowing function & overlap with seizure\n",
    "There are library functions which also do this.\n",
    "This implementaion is rather raw, but illustrates the idea.\n",
    "\n",
    "We analyse the time series in terms of windows. Given a signal + header,\n",
    "we can configure the window length + overlap."
   ]
  },
  {
   "cell_type": "code",
   "execution_count": 56,
   "id": "382c06ad",
   "metadata": {},
   "outputs": [],
   "source": [
    "from scipy.signal import windows\n",
    "    \n",
    "def interval_overlap(i1_start : float, i1_stop : float,\n",
    "            i2_start : float, i2_stop : float) -> float: \n",
    "    window_duration = i1_stop - i1_start\n",
    "    if window_duration == 0:\n",
    "        return 0\n",
    "\n",
    "    # Determine the intersection of the two intervals\n",
    "    overlap_start = max(i1_start, i2_start)\n",
    "    overlap_end = min(i1_stop, i2_stop)\n",
    "\n",
    "    # Calculate the duration of the overlap\n",
    "    overlap_duration = max(0, overlap_end - overlap_start)\n",
    "\n",
    "    return overlap_duration / window_duration\n",
    "\n",
    "\n",
    "def overlap_with_seizures(i1_start: float, i1_duration: float) -> float:\n",
    "    \"\"\"Determine the total overlap of a given interval with all annotated seizures.\"\"\"\n",
    "    total_overlap = 0\n",
    "    for s_start, s_duration in seizures:\n",
    "        # The sum of overlaps is capped at 1, as a window can't be >100% seizure. Which is may be from the normalization\n",
    "        total_overlap += interval_overlap(i1_start, i1_start + i1_duration,\n",
    "                                          s_start, s_start + s_duration)\n",
    "    return min(total_overlap, 1.0)"
   ]
  },
  {
   "cell_type": "markdown",
   "id": "0d88daec",
   "metadata": {},
   "source": [
    "# Feature extraction\n",
    "For each window in each channel, we will generate a feature vector.\n",
    "The label will be determined by the overlap with the seizure annotation.\n",
    "\n",
    "General procedure:\n",
    " 1. Per-channel normalisation\n",
    " 2. Window splitting (time, signal, overlap of window with seizure annotation)\n",
    " 3. Calculation of features\n",
    " 4. Store: (time, features, label == overlap)\n",
    " \n",
    "I suggest to implement at least the following features\n",
    "  * mean\n",
    "  * variance\n",
    "  * energy\n",
    "  * area\n",
    "  * nonlinear_energy\n",
    "  * num_zero_crossings\n",
    "  * length_of_curve\n",
    "\n",
    "Please check with the lecture to get a detailed list of what is expected for a minimal implementation.\n",
    "\n",
    "**Report:** Part 3.3"
   ]
  },
  {
   "cell_type": "markdown",
   "id": "9eb20eaf",
   "metadata": {},
   "source": [
    "## Code for Calculating Features\n",
    "Of course, with more complex features, you are free to map this in the notebook structure."
   ]
  },
  {
   "cell_type": "code",
   "execution_count": 57,
   "id": "3ac1c509",
   "metadata": {},
   "outputs": [],
   "source": [
    "def time_windows(signal, header, window_length_in_s, overlap_in_s):\n",
    "    \"\"\"\n",
    "    Iterator that yields time windows from a signal.\n",
    "\n",
    "    For each window, it yields its center time, the signal data,\n",
    "    and its seizure overlap label.\n",
    "    \"\"\"\n",
    "    rate = header['sample_frequency']\n",
    "    window_length_in_samples = int(window_length_in_s * rate)\n",
    "    overlap_in_samples = int(overlap_in_s * rate)\n",
    "    step = window_length_in_samples - overlap_in_samples\n",
    "\n",
    "    for i in range(0, len(signal) - window_length_in_samples + 1, step):\n",
    "        window_start_time_s = i / rate\n",
    "        window_center_time_s = (i + window_length_in_samples / 2) / rate\n",
    "        \n",
    "        yield (window_center_time_s,\n",
    "               signal[i:i + window_length_in_samples],\n",
    "               overlap_with_seizures(window_start_time_s, window_length_in_s))\n",
    "\n",
    "\n",
    "\n",
    "def get_spectral_power(signal, fs, band):\n",
    "    \"\"\"Calculate the power in a specific frequency band.\"\"\"\n",
    "    # Using rfft for efficiency with real signals\n",
    "    fft_vals = np.abs(fft.rfft(signal))**2\n",
    "    freqs = fft.rfftfreq(len(signal), 1.0/fs)\n",
    "    \n",
    "    # Find indices corresponding to the frequency band\n",
    "    band_indices = np.where((freqs >= band[0]) & (freqs <= band[1]))[0]\n",
    "    \n",
    "    # Sum the power in the band\n",
    "    return np.sum(fft_vals[band_indices])"
   ]
  },
  {
   "cell_type": "markdown",
   "id": "d36c8be0",
   "metadata": {},
   "source": [
    "## Forming the Feature Vector\n",
    "Here, you actually plug in the features you want to include in the feature vector."
   ]
  },
  {
   "cell_type": "code",
   "execution_count": 58,
   "id": "ce44e894",
   "metadata": {},
   "outputs": [
    {
     "name": "stdout",
     "output_type": "stream",
     "text": [
      "Using ENGINEERED features. Num features per channel: 7\n",
      "Number of features per fv: 7\n"
     ]
    }
   ],
   "source": [
    "def build_feature_vector(sig, fs):\n",
    "    \"\"\"\n",
    "    Creates a feature vector from a signal window.\n",
    "    \n",
    "    Features:\n",
    "    1. Line Length: Captures complexity and amplitude.\n",
    "    2. Energy: Captures signal strength.\n",
    "    3-7. Spectral Power in different bands.\n",
    "    \"\"\"\n",
    "    # Time-domain features\n",
    "    line_length = np.sum(np.abs(np.diff(sig)))\n",
    "    energy = np.sum(sig**2)\n",
    "    \n",
    "    # Frequency-domain features\n",
    "    power_delta = get_spectral_power(sig, fs, [0.5, 4])\n",
    "    power_theta = get_spectral_power(sig, fs, [4, 8])\n",
    "    power_alpha = get_spectral_power(sig, fs, [8, 13])\n",
    "    power_beta = get_spectral_power(sig, fs, [13, 30])\n",
    "    power_gamma = get_spectral_power(sig, fs, [30, 80])\n",
    "    \n",
    "    return np.array([\n",
    "        line_length,\n",
    "        energy,\n",
    "        power_delta,\n",
    "        power_theta,\n",
    "        power_alpha,\n",
    "        power_beta,\n",
    "        power_gamma\n",
    "    ])\n",
    "\n",
    "\n",
    "# We derive the number of features automatically\n",
    "# by calling build_feature_vector with fake data.\n",
    "# Determine the number of features\n",
    "\n",
    "# Moving windows up here to use them for the feature utilization\n",
    "# Describe the performance influence of window sizes\n",
    "window_length = 3  # seconds\n",
    "window_overlap = 2  # seconds. High overlap helps get more seizure samples.\n",
    "\n",
    "# Use the first channel to determine sizes and pre-allocate arrays\n",
    "first_header = signal_headers[0]\n",
    "fs = first_header['sample_frequency']\n",
    "window_length_in_samples = int(window_length * fs)\n",
    "overlap_in_samples = int(window_overlap * fs)\n",
    "\n",
    "num_features = 0\n",
    "\n",
    "if USE_RAW_WINDOW_AS_FEATURE:\n",
    "    num_features = window_length_in_samples\n",
    "    print(f\"Using RAW window as feature vector. Num features per channel: {num_features}\")\n",
    "else:\n",
    "    # Derive the number of features automatically by calling build_feature_vector\n",
    "    num_features = len(build_feature_vector(np.linspace(0, 19, 20), fs)) #why do we do this?\n",
    "print(f\"Using ENGINEERED features. Num features per channel: {num_features}\")\n",
    "print('Number of features per fv:', num_features)"
   ]
  },
  {
   "cell_type": "markdown",
   "id": "b64ba349",
   "metadata": {},
   "source": [
    "## Processing the Data\n",
    "Now perform the feature calculations and collect the feature vectors for all windows.\n",
    "\n",
    "**Report:** Part 3.3"
   ]
  },
  {
   "cell_type": "code",
   "execution_count": 59,
   "id": "c483cffd",
   "metadata": {},
   "outputs": [
    {
     "name": "stdout",
     "output_type": "stream",
     "text": [
      "7204tracting features for Channel #28/28\n",
      "28 7 196\n",
      "(7204, 196)\n",
      "\n",
      "Feature extraction complete.\n",
      "Feature matrix shape: (7204, 196)\n"
     ]
    }
   ],
   "source": [
    "# Per channel window splitting & feature vector creation\n",
    "# Optimisation options:\n",
    "#   * Save all windows, so that we can calculate features without window regeneration!\n",
    "#   * Extract windows for all channels at the same time\n",
    "\n",
    "# Calculate total number of windows to pre-allocate memory\n",
    "num_channels = signals.shape[0]\n",
    "num_windows = int(np.floor(\n",
    "    (signals.shape[1] - window_length_in_samples) / (window_length_in_samples - overlap_in_samples)\n",
    ")) + 1\n",
    "fv_times = np.zeros((num_windows))\n",
    "fvs = np.zeros((num_windows, num_channels * num_features))\n",
    "labels = np.zeros((num_windows))\n",
    "\n",
    "for ch_idx in range(num_channels):\n",
    "    print(f'  Extracting features for Channel #{ch_idx+1}/{num_channels}', end='\\r')\n",
    "    ch_header = signal_headers[ch_idx]\n",
    "    ch_signal = signals[ch_idx]\n",
    "    \n",
    "    for win_idx, (start_time, win_data, overlap) in enumerate(\n",
    "        time_windows(ch_signal, ch_header, window_length, window_overlap)):\n",
    "        \n",
    "        if win_idx >= num_windows: continue # Should not happen with correct calculation\n",
    "\n",
    "        # Calculate feature vector for the current window\n",
    "        if USE_RAW_WINDOW_AS_FEATURE:\n",
    "            feature_vec = win_data\n",
    "        else:\n",
    "            feature_vec = build_feature_vector(win_data, fs)#ask gemini\n",
    "        \n",
    "        # Place the features in the correct block of the matrix\n",
    "        fvs[win_idx, ch_idx * num_features:(ch_idx + 1) * num_features] = feature_vec\n",
    "        \n",
    "        # Labels and times are the same for all channels, so only set them once\n",
    "        if ch_idx == 0:\n",
    "            fv_times[win_idx] = start_time\n",
    "            # Label is 1 if there's any seizure overlap, 0 otherwise\n",
    "            labels[win_idx] = 1 if overlap > 0.1 else 0\n",
    "\n",
    "print(num_windows)\n",
    "print(num_channels, num_features, num_channels * num_features)\n",
    "print(fvs.shape)\n",
    "\n",
    "print(\"\\nFeature extraction complete.\")\n",
    "print(f\"Feature matrix shape: {fvs.shape}\")"
   ]
  },
  {
   "cell_type": "markdown",
   "id": "99bdd37f",
   "metadata": {},
   "source": [
    "# Classification\n",
    "Now comes the time to throw the feature vectors at different classifiers.\n",
    "But as we do not have the time to go into all the different options, we will stick to the logistic regression, which we know from Module 2 as a possible choice for classification tasks.\n",
    "\n",
    "**Report:** Part 3.3"
   ]
  },
  {
   "cell_type": "markdown",
   "id": "d9659ccd",
   "metadata": {},
   "source": [
    "## Data Set Splitting\n",
    "While there are plenty of methods available to automate this part, we are here going to do it by hand, so that we can experiment with the process, i.e., you definitely want to fiddle with the balancing.\n",
    "\n",
    "**Report:** Part 3.3"
   ]
  },
  {
   "cell_type": "code",
   "execution_count": 60,
   "id": "3bae96ed",
   "metadata": {},
   "outputs": [
    {
     "name": "stdout",
     "output_type": "stream",
     "text": [
      "\n",
      "Total windows: 7204. Seizure: 285, Non-Seizure: 6919\n",
      "Using imbalanced dataset with a simple chronological split...\n",
      "Training set: 5763 samples. Seizure: 235 (4.1%)\n",
      "Testing set:  1441 samples. Seizure: 50 (3.5%)\n"
     ]
    }
   ],
   "source": [
    "test_split = 0.8  # 80% for training, 20% for testing\n",
    "binary_labels = labels > 0\n",
    "\n",
    "# Indices for seizure and non-seizure windows\n",
    "seizure_idx = np.where(binary_labels == 1)[0]\n",
    "interictal_idx = np.where(binary_labels == 0)[0]\n",
    "\n",
    "print(f\"\\nTotal windows: {len(labels)}. Seizure: {len(seizure_idx)}, Non-Seizure: {len(interictal_idx)}\")\n",
    "\n",
    "train_data_raw, train_labels = None, None\n",
    "test_data_raw, test_labels = None, None\n",
    "\n",
    "if DO_BALANCING:\n",
    "    print(\"Balancing dataset by undersampling non-seizure class...\")\n",
    "    rng = default_rng(42) # for reproducibility\n",
    "    \n",
    "    num_seizure_fvs = len(seizure_idx)\n",
    "    num_train_seizure = int(round(test_split * num_seizure_fvs))\n",
    "    \n",
    "    # Shuffle indices to ensure random selection\n",
    "    rng.shuffle(seizure_idx)\n",
    "    rng.shuffle(interictal_idx)\n",
    "    \n",
    "    # Select seizure indices for train/test\n",
    "    train_s_idx = seizure_idx[:num_train_seizure]\n",
    "    test_s_idx = seizure_idx[num_train_seizure:]\n",
    "    \n",
    "    # Select a corresponding number of non-seizure indices\n",
    "    num_train_interictal = int(num_train_seizure * NON_SEIZURE_OVERHEAD)\n",
    "    train_i_idx = interictal_idx[:num_train_interictal]\n",
    "    # Use the rest for testing\n",
    "    test_i_idx = interictal_idx[num_train_interictal:]\n",
    "    \n",
    "    # Combine and shuffle training and testing indices\n",
    "    train_idx = np.concatenate((train_s_idx, train_i_idx))\n",
    "    test_idx = np.concatenate((test_s_idx, test_i_idx))\n",
    "    rng.shuffle(train_idx)\n",
    "    rng.shuffle(test_idx)\n",
    "    \n",
    "    train_data_raw = fvs[train_idx, :]\n",
    "    train_labels = binary_labels[train_idx]\n",
    "    test_data_raw = fvs[test_idx, :]\n",
    "    test_labels = binary_labels[test_idx]\n",
    "else:\n",
    "    print(\"Using imbalanced dataset with a simple chronological split...\")\n",
    "    split_point = int(test_split * len(binary_labels))\n",
    "    train_data_raw = fvs[:split_point, :]\n",
    "    train_labels = binary_labels[:split_point]\n",
    "    test_data_raw = fvs[split_point:, :]\n",
    "    test_labels = binary_labels[split_point:]\n",
    "\n",
    "print(f\"Training set: {train_data_raw.shape[0]} samples. Seizure: {sum(train_labels)} ({sum(train_labels)/len(train_labels):.1%})\")\n",
    "print(f\"Testing set:  {test_data_raw.shape[0]} samples. Seizure: {sum(test_labels)} ({sum(test_labels)/len(test_labels):.1%})\")\n"
   ]
  },
  {
   "cell_type": "markdown",
   "id": "66b675fe",
   "metadata": {},
   "source": [
    "## Last Pre-Processing & PCA\n",
    "In this part, we investigate the improvements by using scaling and PCA for reducig dimensions and decorrelating signals.\n",
    "Please check [the scikit documentation on pre-processing](https://scikit-learn.org/stable/modules/preprocessing.html) for details on how the following settings are transforming the data.\n",
    "\n",
    "**Report:** Part 3.3"
   ]
  },
  {
   "cell_type": "code",
   "execution_count": 49,
   "id": "8a8ab0bc",
   "metadata": {},
   "outputs": [
    {
     "name": "stdout",
     "output_type": "stream",
     "text": [
      "\n",
      "Starting pre-processing...\n",
      "Original dimensionality: 196\n",
      "Applying RobustScaler (good for data with outliers).\n",
      "Performing PCA (whiten=False, n_components=mle)...\n",
      "PCA complete. New dimensionality: 189\n",
      "  Variance explained by first 4 components: [0.626 0.228 0.072 0.046]\n"
     ]
    }
   ],
   "source": [
    "print(\"\\nStarting pre-processing...\")\n",
    "print(f\"Original dimensionality: {train_data_raw.shape[1]}\")\n",
    "\n",
    "# Scaling - describe performance influence of balancing techniques. \n",
    "if SCALING_METHOD == 'standard':\n",
    "    print(\"Applying StandardScaler.\")\n",
    "    scaler = preprocessing.StandardScaler().fit(train_data_raw)\n",
    "elif SCALING_METHOD == 'robust':\n",
    "    print(\"Applying RobustScaler (good for data with outliers).\")\n",
    "    scaler = preprocessing.RobustScaler().fit(train_data_raw)\n",
    "else:\n",
    "    print(\"No scaling applied.\")\n",
    "    scaler = preprocessing.FunctionTransformer() # Dummy scaler\n",
    "\n",
    "train_data = scaler.transform(train_data_raw)\n",
    "test_data = scaler.transform(test_data_raw)\n",
    "\n",
    "# PCA - describe performance influence of PCA and whitening (with and without)\n",
    "if DO_PCA:\n",
    "    print(f\"Performing PCA (whiten={PCA_WHITEN}, n_components={PCA_N_COMP})...\")\n",
    "    pca = PCA(n_components=PCA_N_COMP, svd_solver='full', whiten=PCA_WHITEN, copy=True)\n",
    "    pca.fit(train_data)\n",
    "    train_data = pca.transform(train_data)\n",
    "    test_data = pca.transform(test_data)\n",
    "    print(f\"PCA complete. New dimensionality: {pca.n_components_}\")\n",
    "    print(f\"  Variance explained by first 4 components: {pca.explained_variance_ratio_[:4].round(3)}\")\n"
   ]
  },
  {
   "cell_type": "markdown",
   "id": "26c193fb",
   "metadata": {},
   "source": [
    "## Optional: Inspecting the PCA's Effect\n",
    "For trying to get a feeling for how the PCA changes the channels, please plot consecutive or two otherwise selected channels on x/y axis.\n",
    "Colour the dots according to their labels.\n",
    "\n",
    "Can you find dimensions which separate the labels better than others?\n",
    "Keep them in mind when checking later the relevance of the features.\n",
    "\n",
    "This part is for trying to get a feeling of how the PCA might help the classifier,\n",
    "it is an explorative task, which means trying out, plotting, and inspecting.\n",
    "Do this only after you have completed your report, to avoid getting stuck here."
   ]
  },
  {
   "cell_type": "code",
   "execution_count": null,
   "id": "c82ed7f1",
   "metadata": {},
   "outputs": [],
   "source": []
  },
  {
   "cell_type": "markdown",
   "id": "877f6408",
   "metadata": {},
   "source": [
    "# Create a Model\n",
    "**Report:** Part 3.3"
   ]
  },
  {
   "cell_type": "code",
   "execution_count": 31,
   "id": "95d1eb20",
   "metadata": {},
   "outputs": [
    {
     "name": "stdout",
     "output_type": "stream",
     "text": [
      "Performing PCA (whiten=False, n_components=mle)...\n",
      "PCA complete. New dimensionality: 189\n",
      "  Variance explained by first 4 components: [0.637 0.199 0.037 0.035]\n"
     ]
    }
   ],
   "source": [
    "#from sklearn.linear_model import LogisticRegression\n",
    "\n",
    "#classifier = LogisticRegression()\n",
    "\n",
    "# using random forest insted\n",
    "\n",
    "train_data = scaler.transform(train_data_raw)\n",
    "test_data = scaler.transform(test_data_raw)\n",
    "\n",
    "# PCA - describe the performance influence in the report. \n",
    "if DO_PCA:\n",
    "    # Random Forest classifier is largely insensitive to the whiten feature scaling that PCA whitening performs.\n",
    "    print(f\"Performing PCA (whiten={PCA_WHITEN}, n_components={PCA_N_COMP})...\")\n",
    "    pca = PCA(n_components=PCA_N_COMP, svd_solver='full', whiten=PCA_WHITEN, copy=True)\n",
    "    pca.fit(train_data)\n",
    "    train_data = pca.transform(train_data)\n",
    "    test_data = pca.transform(test_data)\n",
    "    print(f\"PCA complete. New dimensionality: {pca.n_components_}\")\n",
    "    print(f\"  Variance explained by first 4 components: {pca.explained_variance_ratio_[:4].round(3)}\")\n"
   ]
  },
  {
   "cell_type": "code",
   "execution_count": 32,
   "id": "9230639c",
   "metadata": {},
   "outputs": [],
   "source": [
    "# Fit the model\n",
    "#classifier.fit(train_data, train_labels)"
   ]
  },
  {
   "cell_type": "markdown",
   "id": "a5adba26",
   "metadata": {},
   "source": [
    "# Evaluation\n",
    "Evaluate accuracy, sensitivity, specificity, confusion matrix.\n",
    "What do these measures tell us about the performance of our model?\n",
    "\n",
    "Check which features were most relevant.\n",
    "\n",
    "**Report:** Part 3.3"
   ]
  },
  {
   "cell_type": "code",
   "execution_count": 36,
   "id": "6db1da85",
   "metadata": {},
   "outputs": [
    {
     "name": "stdout",
     "output_type": "stream",
     "text": [
      "\n",
      "Training Random Forest Classifier...\n",
      "Evaluating classifier...\n",
      "\n",
      "Classification Report:\n",
      "              precision    recall  f1-score   support\n",
      "\n",
      " Non-Seizure       0.99      1.00      1.00      1391\n",
      "     Seizure       1.00      0.84      0.91        50\n",
      "\n",
      "    accuracy                           0.99      1441\n",
      "   macro avg       1.00      0.92      0.96      1441\n",
      "weighted avg       0.99      0.99      0.99      1441\n",
      "\n"
     ]
    },
    {
     "data": {
      "application/vnd.jupyter.widget-view+json": {
       "model_id": "cab9a55407484565871b96867b2736cc",
       "version_major": 2,
       "version_minor": 0
      },
      "image/png": "[encoded data removed]",
      "text/html": [
       "\n",
       "            <div style=\"display: inline-block;\">\n",
       "                <div class=\"jupyter-widgets widget-label\" style=\"text-align: center;\">\n",
       "                    Figure\n",
       "                </div>\n",
       "                <img src='data:image/png;base64,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' width=900.0/>\n",
       "            </div>\n",
       "        "
      ],
      "text/plain": [
       "Canvas(toolbar=Toolbar(toolitems=[('Home', 'Reset original view', 'home', 'home'), ('Back', 'Back to previous …"
      ]
     },
     "metadata": {},
     "output_type": "display_data"
    },
    {
     "name": "stdout",
     "output_type": "stream",
     "text": [
      " PCA_WHITEN: False\n"
     ]
    },
    {
     "data": {
      "application/vnd.jupyter.widget-view+json": {
       "model_id": "16da49fc9c9841ee989f34924ecafdb6",
       "version_major": 2,
       "version_minor": 0
      },
      "image/png": "[encoded data removed]",
      "text/html": [
       "\n",
       "            <div style=\"display: inline-block;\">\n",
       "                <div class=\"jupyter-widgets widget-label\" style=\"text-align: center;\">\n",
       "                    Figure\n",
       "                </div>\n",
       "                <img src='data:image/png;base64,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' width=1000.0/>\n",
       "            </div>\n",
       "        "
      ],
      "text/plain": [
       "Canvas(toolbar=Toolbar(toolitems=[('Home', 'Reset original view', 'home', 'home'), ('Back', 'Back to previous …"
      ]
     },
     "metadata": {},
     "output_type": "display_data"
    }
   ],
   "source": [
    "print(\"\\nTraining Random Forest Classifier...\")\n",
    "# A simple, robust classifier\n",
    "clf = RandomForestClassifier(n_estimators=100, random_state=42, n_jobs=-1)\n",
    "clf.fit(train_data, train_labels)\n",
    "\n",
    "print(\"Evaluating classifier...\")\n",
    "predictions = clf.predict(test_data)\n",
    "\n",
    "print(\"\\nClassification Report:\")\n",
    "print(classification_report(test_labels, predictions, target_names=['Non-Seizure', 'Seizure']))\n",
    "\n",
    "# Plotting Confusion Matrix - discuss how feature selection and k-fold cross validation may improve model and else general statistics and etc. from module 1\n",
    "cm = confusion_matrix(test_labels, predictions, labels=clf.classes_)\n",
    "disp = ConfusionMatrixDisplay(confusion_matrix=cm, display_labels=['Non-Seizure', 'Seizure'])\n",
    "disp.plot(cmap=plt.cm.Blues)\n",
    "plt.title('Confusion Matrix')\n",
    "plt.show()\n",
    "\n",
    "\n",
    "# a) Visualize PCA components\n",
    "if DO_PCA and pca.n_components_ >= 2:\n",
    "    print(f\" PCA_WHITEN: {PCA_WHITEN}\")\n",
    "    plt.figure(figsize=(10, 7))\n",
    "    scatter = plt.scatter(test_data[:, 0], test_data[:, 1], c=test_labels, cmap='viridis', alpha=0.6)\n",
    "    plt.title('PCA of Test Data (First Two Components)')\n",
    "    plt.xlabel('Principal Component 1')\n",
    "    plt.ylabel('Principal Component 2')\n",
    "    plt.legend(handles=scatter.legend_elements()[0], labels=['Non-Seizure', 'Seizure'])\n",
    "    plt.grid(True)\n",
    "    plt.show()\n",
    "\n",
    "# b) Investigate Feature Relevance\n",
    "# This is only meaningful if we used engineered features and did not do PCA,\n",
    "# as PCA transforms the original features.\n",
    "if not USE_RAW_WINDOW_AS_FEATURE and not DO_PCA:\n",
    "    importances = clf.feature_importances_\n",
    "    # We have num_features per channel, let's average them\n",
    "    avg_importances = np.mean(importances.reshape(num_channels, num_features), axis=0)\n",
    "    \n",
    "    feature_names = ['Line Len', 'Energy', 'Pwr Delta', 'Pwr Theta', 'Pwr Alpha', 'Pwr Beta', 'Pwr Gamma']\n",
    "    \n",
    "    plt.figure(figsize=(10, 6))\n",
    "    plt.bar(feature_names, avg_importances)\n",
    "    plt.title('Average Feature Importance Across All Channels')\n",
    "    plt.ylabel('Mean Gini Importance')\n",
    "    plt.xticks(rotation=45)\n",
    "    plt.tight_layout()\n",
    "    plt.show()\n"
   ]
  },
  {
   "cell_type": "code",
   "execution_count": null,
   "id": "3691ff09-5cd8-474c-bc9b-6a11ff157ba6",
   "metadata": {},
   "outputs": [],
   "source": []
  }
 ],
 "metadata": {
  "kernelspec": {
   "display_name": "Python 3 (ipykernel)",
   "language": "python",
   "name": "python3"
  },
  "language_info": {
   "codemirror_mode": {
    "name": "ipython",
    "version": 3
   },
   "file_extension": ".py",
   "mimetype": "text/x-python",
   "name": "python",
   "nbconvert_exporter": "python",
   "pygments_lexer": "ipython3",
   "version": "3.12.3"
  }
 },
 "nbformat": 4,
 "nbformat_minor": 5
}
